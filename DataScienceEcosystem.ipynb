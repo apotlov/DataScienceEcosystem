{
 "cells": [
  {
   "cell_type": "markdown",
   "id": "c4ea5ab7-1ad4-4e74-b21c-7f87110a09fe",
   "metadata": {},
   "source": [
    "# Data Science Tools and Ecosystem"
   ]
  },
  {
   "cell_type": "markdown",
   "id": "b1d0debe-a0ff-449c-8bc7-e713113cfef1",
   "metadata": {},
   "source": [
    "In this notebook, Data Science Tools and Ecosystem are summarized."
   ]
  },
  {
   "cell_type": "markdown",
   "id": "bb9e2816-65de-4d69-aa0f-1e415442d623",
   "metadata": {},
   "source": [
    "# **Objectives:**\n",
    "- List popular languages for Data Science\n",
    "- List popular libraries for Data Science\n",
    "- List popular tools for Data Science"
   ]
  },
  {
   "cell_type": "markdown",
   "id": "06e51bdb-242b-4587-98a7-53dcca968dca",
   "metadata": {},
   "source": [
    "## Author\n",
    "Alexander Potlov"
   ]
  },
  {
   "cell_type": "markdown",
   "id": "a104e168-4a92-460c-8c7c-981be799e017",
   "metadata": {},
   "source": [
    "### Some of the popular languages that Data Scientists use are:\n",
    "1. Python\n",
    "2. R\n",
    "3. Scala"
   ]
  },
  {
   "cell_type": "markdown",
   "id": "3ef304f6-bb22-4ad3-9e7f-9118a295a47a",
   "metadata": {},
   "source": [
    "### Some of the commonly used libraries used by Data Scientists include:\n",
    "1. Pandas\n",
    "2. ggplot\n",
    "3. plotly\n",
    "4. NumPy\n",
    "5. Matplotlib"
   ]
  },
  {
   "cell_type": "markdown",
   "id": "f67f5474-760f-493a-bed4-263f17bc377d",
   "metadata": {},
   "source": [
    "|Data Science Tools|\n",
    "|---|\n",
    "|PyCharm|\n",
    "|RStudio|\n",
    "|Jupiter Lab|\n",
    "|Anaconda|\n",
    "|Spyder|\n",
    "|VS Code|"
   ]
  },
  {
   "cell_type": "markdown",
   "id": "ab1512de-30ca-4c50-8690-96c862ab4046",
   "metadata": {},
   "source": [
    "### Below are a few examples of evaluating arithmetic expressions in Python"
   ]
  },
  {
   "cell_type": "code",
   "execution_count": 10,
   "id": "cdd97772-81c2-4a66-a348-829c929dde66",
   "metadata": {},
   "outputs": [
    {
     "data": {
      "text/plain": [
       "17"
      ]
     },
     "execution_count": 10,
     "metadata": {},
     "output_type": "execute_result"
    }
   ],
   "source": [
    "#This a simple arithmetic expression to mutiply then add integers\n",
    "(3*4)+5"
   ]
  },
  {
   "cell_type": "code",
   "execution_count": 11,
   "id": "3f973c7c-1f77-4c82-b94b-28fe4269e2cf",
   "metadata": {},
   "outputs": [
    {
     "data": {
      "text/plain": [
       "3.3333333333333335"
      ]
     },
     "execution_count": 11,
     "metadata": {},
     "output_type": "execute_result"
    }
   ],
   "source": [
    "#This will convert 200 minutes to hours by diving by 60\n",
    "200/60"
   ]
  },
  {
   "cell_type": "code",
   "execution_count": null,
   "id": "1ed641c4-b4ea-43c8-9321-2048dabd4736",
   "metadata": {},
   "outputs": [],
   "source": []
  }
 ],
 "metadata": {
  "kernelspec": {
   "display_name": "Python 3 (ipykernel)",
   "language": "python",
   "name": "python3"
  },
  "language_info": {
   "codemirror_mode": {
    "name": "ipython",
    "version": 3
   },
   "file_extension": ".py",
   "mimetype": "text/x-python",
   "name": "python",
   "nbconvert_exporter": "python",
   "pygments_lexer": "ipython3",
   "version": "3.8.2"
  }
 },
 "nbformat": 4,
 "nbformat_minor": 5
}
